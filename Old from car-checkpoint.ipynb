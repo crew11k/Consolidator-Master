{
 "cells": [
  {
   "cell_type": "code",
   "execution_count": null,
   "metadata": {
    "collapsed": true
   },
   "outputs": [],
   "source": [
    "import pandas as pd\n",
    "import openpyxl as pyxl\n",
    "import os\n",
    "\n",
    "def grab_values(excel_sheet):\n",
    "    wb = pyxl.load_workbook(excel_sheet, data_only=True)\n",
    "    ws_list = wb.get_sheet_names()\n",
    "    named_ranges = [named_range.name for named_range in wb.get_named_ranges()]\n",
    "    variable_dict = {}\n",
    "    for named_range in wb.get_named_ranges():\n",
    "        try:\n",
    "            sheet_name = named_range.destinations[0][0].title\n",
    "            cell_name = named_range.destinations[0][1].replace('$','')\n",
    "            variable_dict[named_range.name] = {}\n",
    "            variable_dict[named_range.name]['value'] = wb[sheet_name][cell_name].value\n",
    "            variable_dict[named_range.name]['sheet'] = sheet_name\n",
    "            variable_dict[named_range.name]['cell'] = cell_name\n",
    "        except:\n",
    "            pass\n",
    "    return variable_dict\n",
    "    \n",
    "def run_program():\n",
    "    list_of_dicts = {}\n",
    "    location_dicts = {}\n",
    "    for sheet in os.listdir(os.getcwd()):\n",
    "        try:\n",
    "            location_dicts[sheet] = grab_values(\"{}\\\\{}\".format(os.getcwd(),sheet)) # windows\n",
    "            temp_dict = grab_values(\"{}\\\\{}\".format(os.getcwd(),sheet)) # windows\n",
    "            # Uncomment above by highlighting the line and ctrl or cmd / removing the leftmost # if on windows and comment mac below\n",
    "            # location_dicts[sheet] = grab_values(sheet) # mac\n",
    "            # temp_dict = grab_values(sheet) # mac\n",
    "            df_dict = {}\n",
    "            for variable, dictionary in temp_dict.items():\n",
    "                df_dict[variable] = dictionary['value']\n",
    "            list_of_dicts[sheet] = df_dict\n",
    "        except:\n",
    "            pass \n",
    "        Print(\"formated [].format(sheet)\")\n",
    "    df = pd.DataFrame(list_of_dicts).T\n",
    "    df.to_csv('named_range_database.csv', index_label='workbook')\n",
    "    return df, location_dicts\n",
    "\n",
    "def edit_all_files(new_csv, location_dict):\n",
    "    csv_dict = pd.read_csv(new_csv).T.to_dict()\n",
    "    for workbook_dict in csv_dict.values():\n",
    "        wb_filename = workbook_dict['workbook']\n",
    "        wb = pyxl.load_workbook(\"{}\\\\{}\".format(os.getcwd(), wb_filename)) # windows\n",
    "        # wb = pyxl.load_workbook(wb_filename) # mac\n",
    "        for variable, value in workbook_dict.items(): \n",
    "            if variable != \"workbook\":\n",
    "                try:\n",
    "                    sheet_name = location_dict[wb_filename][variable]['sheet']\n",
    "                    cell_name = location_dict[wb_filename][variable]['cell']\n",
    "                    wb[sheet_name][cell_name] = value\n",
    "                except:\n",
    "                    pass\n",
    "        wb.save(\"{}\\\\{}\".format(os.getcwd(), wb_filename)) # windows       \n",
    "        wb.save(wb_filename) # mac\n",
    "        print('Saved {}'.format(wb_filename))\n",
    "\n"
   ]
  },
  {
   "cell_type": "code",
   "execution_count": null,
   "metadata": {
    "collapsed": true
   },
   "outputs": [],
   "source": [
    "df, excel_dicts = run_program()\n",
    "df"
   ]
  },
  {
   "cell_type": "code",
   "execution_count": null,
   "metadata": {
    "collapsed": true
   },
   "outputs": [],
   "source": [
    "edit_all_files('named_range_database.csv', excel_dicts) # run this if you want to edit original excel files"
   ]
  }
 ],
 "metadata": {
  "kernelspec": {
   "display_name": "Python 3",
   "language": "python",
   "name": "python3"
  },
  "language_info": {
   "codemirror_mode": {
    "name": "ipython",
    "version": 3
   },
   "file_extension": ".py",
   "mimetype": "text/x-python",
   "name": "python",
   "nbconvert_exporter": "python",
   "pygments_lexer": "ipython3",
   "version": "3.5.0"
  }
 },
 "nbformat": 4,
 "nbformat_minor": 0
}
